{
 "cells": [
  {
   "cell_type": "code",
   "execution_count": 7,
   "metadata": {},
   "outputs": [],
   "source": [
    "from selenium import webdriver\n",
    "from selenium.webdriver.chrome.service import Service\n",
    "from selenium.webdriver.chrome.options import Options  \n",
    "from webdriver_manager.chrome import ChromeDriverManager  \n",
    "from selenium.webdriver.common.by import By\n",
    "\n",
    "\n",
    "from bs4 import BeautifulSoup\n",
    "import time"
   ]
  },
  {
   "cell_type": "code",
   "execution_count": 10,
   "metadata": {},
   "outputs": [],
   "source": [
    "chrome_options = Options()\n",
    "chrome_options.add_argument(\"--headless\") \n",
    "service = Service(ChromeDriverManager().install())\n",
    "driver = webdriver.Chrome(service=service, options=chrome_options)"
   ]
  },
  {
   "cell_type": "code",
   "execution_count": 11,
   "metadata": {},
   "outputs": [],
   "source": [
    "url = 'https://ge.globo.com/futebol/brasileirao-serie-a/'\n",
    "driver.get(url)\n",
    "\n",
    "html = driver.page_source\n",
    "\n",
    "\n",
    "driver.quit()"
   ]
  },
  {
   "cell_type": "code",
   "execution_count": 15,
   "metadata": {},
   "outputs": [],
   "source": [
    "soup = BeautifulSoup(html, 'html.parser')\n"
   ]
  },
  {
   "cell_type": "code",
   "execution_count": null,
   "metadata": {},
   "outputs": [],
   "source": [
    "sections = soup.find_all('section', class_=\"tabela tabela__pontos-corridos\")\n",
    "for i, section in enumerate(sections):\n",
    "    print(f\"Seção {i+1}:\")\n",
    "    print(section.get_text(strip=True))  \n",
    "    print(\"-\" * 40)  # "
   ]
  },
  {
   "cell_type": "code",
   "execution_count": null,
   "metadata": {},
   "outputs": [],
   "source": [
    "sections = soup.find_all('section',class_=\"tabela tabela__pontos-corridos\")\n",
    "for i, section in enumerate(sections):\n",
    "    tables = section.find_all('table', class_=\"tabela__equipes tabela__equipes--com-borda\")  \n",
    "    if tables:\n",
    "        print(f\"Seção {i+1} contém {len(tables)} tabela(s):\")\n",
    "        for j, table in enumerate(tables):\n",
    "            print(f\"Tabela {j+1}:\")\n",
    "            rows = table.find_all('tr')  \n",
    "\n",
    "            for row in rows:\n",
    "                cols = row.find_all(['td', 'th'])  \n",
    "                cols_text = [col.get_text(strip=True) for col in cols]  \n",
    "                print(cols_text)  \n",
    "            print(\"-\" * 40)  "
   ]
  },
  {
   "cell_type": "code",
   "execution_count": 38,
   "metadata": {},
   "outputs": [
    {
     "name": "stdout",
     "output_type": "stream",
     "text": [
      "Seção 1 contém 1 tabela(s):\n",
      "Tabela 1:\n",
      "['P', 'J', 'V', 'E', 'D', 'GP', 'GC', 'SG', '%', 'ÚLT. JOGOS']\n",
      "['60', '29', '18', '6', '5', '47', '25', '22', '68', '']\n",
      "['57', '29', '17', '6', '6', '46', '20', '26', '65', '']\n",
      "['55', '29', '16', '7', '6', '38', '29', '9', '63', '']\n",
      "['51', '28', '15', '6', '7', '45', '32', '13', '60', '']\n",
      "['47', '29', '14', '5', '10', '38', '32', '6', '54', '']\n",
      "['46', '28', '12', '10', '6', '37', '26', '11', '54', '']\n",
      "['45', '29', '13', '6', '10', '39', '33', '6', '51', '']\n",
      "['43', '29', '12', '7', '10', '35', '29', '6', '49', '']\n",
      "['40', '28', '10', '10', '8', '40', '41', '-1', '47', '']\n",
      "['37', '28', '10', '7', '11', '32', '38', '-6', '44', '']\n",
      "['35', '29', '10', '5', '14', '33', '37', '-4', '40', '']\n",
      "['35', '29', '9', '8', '12', '36', '42', '-6', '40', '']\n",
      "['34', '29', '8', '10', '11', '34', '38', '-4', '39', '']\n",
      "['34', '29', '8', '10', '11', '33', '39', '-6', '39', '']\n",
      "['31', '27', '8', '7', '12', '27', '31', '-4', '38', '']\n",
      "['30', '28', '8', '6', '14', '22', '30', '-8', '35', '']\n",
      "['29', '29', '8', '5', '16', '32', '44', '-12', '33', '']\n",
      "['29', '29', '6', '11', '12', '29', '38', '-9', '33', '']\n",
      "['26', '28', '6', '8', '14', '25', '39', '-14', '30', '']\n",
      "['21', '29', '5', '6', '18', '22', '47', '-25', '24', '']\n",
      "----------------------------------------\n"
     ]
    }
   ],
   "source": [
    "sections = soup.find_all('section', class_=\"tabela tabela__pontos-corridos\")\n",
    "for i, section in enumerate(sections):\n",
    "    tables = section.find_all('table',class_=\"tabela__pontos\")  \n",
    "    if tables:\n",
    "        print(f\"Seção {i+1} contém {len(tables)} tabela(s):\")\n",
    "        for j, table in enumerate(tables):\n",
    "            print(f\"Tabela {j+1}:\")\n",
    "            rows = table.find_all('tr')  \n",
    "\n",
    "            for row in rows:\n",
    "                cols = row.find_all(['td', 'th'])  \n",
    "                cols_text = [col.get_text(strip=True) for col in cols]  \n",
    "                print(cols_text)  \n",
    "            print(\"-\" * 40)  "
   ]
  },
  {
   "cell_type": "code",
   "execution_count": 39,
   "metadata": {},
   "outputs": [
    {
     "name": "stdout",
     "output_type": "stream",
     "text": [
      "+----+---------------+--------+-----+-----+-----+-----+-----+------+------+------+-----+--------------+\n",
      "|    | Posição       |   Time |   P |   J |   V |   E |   D |   GP |   GC |   SG |   % | ÚLT. JOGOS   |\n",
      "+====+===============+========+=====+=====+=====+=====+=====+======+======+======+=====+==============+\n",
      "|  1 | Botafogo      |      0 |  60 |  29 |  18 |   6 |   5 |   47 |   25 |   22 |  68 | V V V E V    |\n",
      "+----+---------------+--------+-----+-----+-----+-----+-----+------+------+------+-----+--------------+\n",
      "|  2 | Palmeiras     |      0 |  57 |  29 |  17 |   6 |   6 |   46 |   20 |   26 |  65 | V V V V E    |\n",
      "+----+---------------+--------+-----+-----+-----+-----+-----+------+------+------+-----+--------------+\n",
      "|  3 | Fortaleza     |      0 |  55 |  29 |  16 |   7 |   6 |   38 |   29 |    9 |  63 | D E V V D    |\n",
      "+----+---------------+--------+-----+-----+-----+-----+-----+------+------+------+-----+--------------+\n",
      "|  4 | Flamengo      |      0 |  51 |  28 |  15 |   6 |   7 |   45 |   32 |   13 |  60 | D E D V V    |\n",
      "+----+---------------+--------+-----+-----+-----+-----+-----+------+------+------+-----+--------------+\n",
      "|  5 | São Paulo     |      0 |  47 |  29 |  14 |   5 |  10 |   38 |   32 |    6 |  54 | D V D V D    |\n",
      "+----+---------------+--------+-----+-----+-----+-----+-----+------+------+------+-----+--------------+\n",
      "|  6 | Internacional |      1 |  46 |  28 |  12 |  10 |   6 |   37 |   26 |   11 |  54 | V V V V E    |\n",
      "+----+---------------+--------+-----+-----+-----+-----+-----+------+------+------+-----+--------------+\n",
      "|  7 | Bahia         |      1 |  45 |  29 |  13 |   6 |  10 |   39 |   33 |    6 |  51 | D V D V D    |\n",
      "+----+---------------+--------+-----+-----+-----+-----+-----+------+------+------+-----+--------------+\n",
      "|  8 | Cruzeiro      |      0 |  43 |  29 |  12 |   7 |  10 |   35 |   29 |    6 |  49 | V D E E D    |\n",
      "+----+---------------+--------+-----+-----+-----+-----+-----+------+------+------+-----+--------------+\n",
      "|  9 | Atlético-MG   |      0 |  40 |  28 |  10 |  10 |   8 |   40 |   41 |   -1 |  47 | V D V D E    |\n",
      "+----+---------------+--------+-----+-----+-----+-----+-----+------+------+------+-----+--------------+\n",
      "| 10 | Vasco         |      0 |  37 |  28 |  10 |   7 |  11 |   32 |   38 |   -6 |  44 | V E D E E    |\n",
      "+----+---------------+--------+-----+-----+-----+-----+-----+------+------+------+-----+--------------+\n",
      "| 11 | Grêmio        |      2 |  35 |  29 |  10 |   5 |  14 |   33 |   37 |   -4 |  40 | D E V E V    |\n",
      "+----+---------------+--------+-----+-----+-----+-----+-----+------+------+------+-----+--------------+\n",
      "| 12 | Criciúma      |      2 |  35 |  29 |   9 |   8 |  12 |   36 |   42 |   -6 |  40 | D D E D V    |\n",
      "+----+---------------+--------+-----+-----+-----+-----+-----+------+------+------+-----+--------------+\n",
      "| 13 | Bragantino    |      2 |  34 |  29 |   8 |  10 |  11 |   34 |   38 |   -4 |  39 | V E D E E    |\n",
      "+----+---------------+--------+-----+-----+-----+-----+-----+------+------+------+-----+--------------+\n",
      "| 14 | Juventude     |      2 |  34 |  29 |   8 |  10 |  11 |   33 |   39 |   -6 |  39 | D V D E E    |\n",
      "+----+---------------+--------+-----+-----+-----+-----+-----+------+------+------+-----+--------------+\n",
      "| 15 | Athletico-PR  |      0 |  31 |  27 |   8 |   7 |  12 |   27 |   31 |   -4 |  38 | D E E D D    |\n",
      "+----+---------------+--------+-----+-----+-----+-----+-----+------+------+------+-----+--------------+\n",
      "| 16 | Fluminense    |      2 |  30 |  28 |   8 |   6 |  14 |   22 |   30 |   -8 |  35 | V D D D V    |\n",
      "+----+---------------+--------+-----+-----+-----+-----+-----+------+------+------+-----+--------------+\n",
      "| 17 | Vitória       |      1 |  29 |  29 |   8 |   5 |  16 |   32 |   44 |  -12 |  33 | D V V D E    |\n",
      "+----+---------------+--------+-----+-----+-----+-----+-----+------+------+------+-----+--------------+\n",
      "| 18 | Corinthians   |      1 |  29 |  29 |   6 |  11 |  12 |   29 |   38 |   -9 |  33 | V D V D E    |\n",
      "+----+---------------+--------+-----+-----+-----+-----+-----+------+------+------+-----+--------------+\n",
      "| 19 | Cuiabá        |      0 |  26 |  28 |   6 |   8 |  14 |   25 |   39 |  -14 |  30 | V D E D V    |\n",
      "+----+---------------+--------+-----+-----+-----+-----+-----+------+------+------+-----+--------------+\n",
      "| 20 | Atlético-GO   |      0 |  21 |  29 |   5 |   6 |  18 |   22 |   47 |  -25 |  24 | D D D V D    |\n",
      "+----+---------------+--------+-----+-----+-----+-----+-----+------+------+------+-----+--------------+\n"
     ]
    }
   ],
   "source": [
    "import re\n",
    "from tabulate import tabulate\n",
    "\n",
    "sections = soup.find_all('section', class_=\"tabela tabela__pontos-corridos\")\n",
    "\n",
    "tabela_completa = []\n",
    "\n",
    "cabecalho = ['Posição', 'Time', 'P', 'J', 'V', 'E', 'D', 'GP', 'GC', 'SG', '%', 'ÚLT. JOGOS']\n",
    "tabela_completa.append(cabecalho)\n",
    "\n",
    "for section in sections:\n",
    "    tabela_equipes = section.find_all('table', class_=\"tabela__equipes tabela__equipes--com-borda\")\n",
    "    \n",
    "    tabela_pontos = section.find_all('table', class_=\"tabela__pontos\")\n",
    "    \n",
    "    if tabela_equipes and tabela_pontos:  \n",
    "        for table_equipes, table_pontos in zip(tabela_equipes, tabela_pontos):\n",
    "            rows_equipes = table_equipes.find_all('tr')\n",
    "            rows_pontos = table_pontos.find_all('tr')\n",
    "            \n",
    "            for row_equipe, row_ponto in zip(rows_equipes, rows_pontos):\n",
    "                cols_equipe = row_equipe.find_all(['td', 'th'])\n",
    "                cols_text_equipe = [col.get_text(strip=True) for col in cols_equipe]\n",
    "\n",
    "                if len(cols_text_equipe) > 1:\n",
    "                    nome_time = cols_text_equipe[1].replace('BOT', '').replace('PAL', '').replace('FOR', '').replace('FLA', '').replace('SAO', '').replace('INT', '').replace('BAH', '').replace('CRU', '').replace('CAM', '').replace('VAS', '').replace('GRE', '').replace('CRI', '').replace('RBB', '').replace('JUV', '').replace('CAP', '').replace('FLU', '').replace('VIT', '').replace('COR', '').replace('CUI', '').replace('ACG', '').strip()\n",
    "                    cols_text_equipe[1] = nome_time\n",
    "\n",
    "                cols_ponto = row_ponto.find_all(['td', 'th'])\n",
    "                cols_text_ponto = [col.get_text(strip=True) for col in cols_ponto]\n",
    "\n",
    "                ultimos_jogos_col = row_ponto.find_all('td', class_=\"classificacao__pontos classificacao__pontos--ultimos_jogos\")\n",
    "                ultimos_jogos_resultados = []\n",
    "                \n",
    "                for col in ultimos_jogos_col:\n",
    "                    spans = col.find_all('span')\n",
    "                    for span in spans:\n",
    "                        span_class = span.get('class', [])\n",
    "                        \n",
    "                        if \"classificacao__ultimos_jogos--v\" in span_class:\n",
    "                            ultimos_jogos_resultados.append('V')  # Vitória\n",
    "                        elif \"classificacao__ultimos_jogos--e\" in span_class:\n",
    "                            ultimos_jogos_resultados.append('E')  # Empate\n",
    "                        elif \"classificacao__ultimos_jogos--d\" in span_class:\n",
    "                            ultimos_jogos_resultados.append('D')  # Derrota\n",
    "\n",
    "                linha_completa = cols_text_equipe + cols_text_ponto\n",
    "                \n",
    "                \n",
    "                if linha_completa[-1] == '':\n",
    "                    linha_completa.pop()  \n",
    "               \n",
    "                if ultimos_jogos_resultados:  \n",
    "                    linha_completa.append(' '.join(ultimos_jogos_resultados))  \n",
    "                else:\n",
    "                    linha_completa.append('')  \n",
    "\n",
    "               \n",
    "                if linha_completa[0] != \"Classificação\":  \n",
    "                    tabela_completa.append(linha_completa)\n",
    "\n",
    "\n",
    "print(tabulate(tabela_completa, headers='firstrow', tablefmt='grid'))\n"
   ]
  }
 ],
 "metadata": {
  "kernelspec": {
   "display_name": "venv",
   "language": "python",
   "name": "python3"
  },
  "language_info": {
   "codemirror_mode": {
    "name": "ipython",
    "version": 3
   },
   "file_extension": ".py",
   "mimetype": "text/x-python",
   "name": "python",
   "nbconvert_exporter": "python",
   "pygments_lexer": "ipython3",
   "version": "3.12.4"
  }
 },
 "nbformat": 4,
 "nbformat_minor": 2
}
